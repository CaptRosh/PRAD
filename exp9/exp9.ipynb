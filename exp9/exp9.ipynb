{
  "nbformat": 4,
  "nbformat_minor": 2,
  "metadata": {
    "orig_nbformat": 4,
    "language_info": {
      "name": "python",
      "version": "3.8.6",
      "mimetype": "text/x-python",
      "codemirror_mode": {
        "name": "ipython",
        "version": 3
      },
      "pygments_lexer": "ipython3",
      "nbconvert_exporter": "python",
      "file_extension": ".py"
    },
    "kernelspec": {
      "name": "python3",
      "display_name": "Python 3.8.6 64-bit (system)"
    },
    "interpreter": {
      "hash": "2e2612a721d62f3d81e7d0e2488b07fb9e0d705069089c8268e0a6f6df0cbda1"
    },
    "colab": {
      "name": "esp9.ipynb",
      "provenance": [],
      "collapsed_sections": []
    }
  },
  "cells": [
    {
      "cell_type": "markdown",
      "source": [
        "<h1>PAD Lab Experiment 9</h1>\n",
        "\n",
        "<h2>Roshan Srivastava <br> J047<br>MBA Tech. EXTC SEM 7</h2>\n",
        "\n",
        "<h3>Aim: Auto-Encoder for Anomaly Dectection</h3>"
      ],
      "metadata": {
        "id": "J17ZuO3PciUm"
      }
    },
    {
      "cell_type": "markdown",
      "source": [
        "<h1>Part 1:</h1>"
      ],
      "metadata": {
        "id": "NWtwfXcBciUp"
      }
    },
    {
      "cell_type": "code",
      "execution_count": 2,
      "source": [
        "import numpy as np\r\n",
        "import pandas as pd\r\n",
        "import matplotlib.pyplot as plt"
      ],
      "outputs": [],
      "metadata": {
        "id": "dzO6Bk8yciUq"
      }
    },
    {
      "cell_type": "code",
      "execution_count": 3,
      "source": [
        "data = pd.read_csv(\"http://storage.googleapis.com/download.tensorflow.org/data/ecg.csv\",header=None)\r\n",
        "data.head()"
      ],
      "outputs": [
        {
          "output_type": "execute_result",
          "data": {
            "text/html": [
              "<div>\n",
              "<style scoped>\n",
              "    .dataframe tbody tr th:only-of-type {\n",
              "        vertical-align: middle;\n",
              "    }\n",
              "\n",
              "    .dataframe tbody tr th {\n",
              "        vertical-align: top;\n",
              "    }\n",
              "\n",
              "    .dataframe thead th {\n",
              "        text-align: right;\n",
              "    }\n",
              "</style>\n",
              "<table border=\"1\" class=\"dataframe\">\n",
              "  <thead>\n",
              "    <tr style=\"text-align: right;\">\n",
              "      <th></th>\n",
              "      <th>0</th>\n",
              "      <th>1</th>\n",
              "      <th>2</th>\n",
              "      <th>3</th>\n",
              "      <th>4</th>\n",
              "      <th>5</th>\n",
              "      <th>6</th>\n",
              "      <th>7</th>\n",
              "      <th>8</th>\n",
              "      <th>9</th>\n",
              "      <th>...</th>\n",
              "      <th>131</th>\n",
              "      <th>132</th>\n",
              "      <th>133</th>\n",
              "      <th>134</th>\n",
              "      <th>135</th>\n",
              "      <th>136</th>\n",
              "      <th>137</th>\n",
              "      <th>138</th>\n",
              "      <th>139</th>\n",
              "      <th>140</th>\n",
              "    </tr>\n",
              "  </thead>\n",
              "  <tbody>\n",
              "    <tr>\n",
              "      <th>0</th>\n",
              "      <td>-0.112522</td>\n",
              "      <td>-2.827204</td>\n",
              "      <td>-3.773897</td>\n",
              "      <td>-4.349751</td>\n",
              "      <td>-4.376041</td>\n",
              "      <td>-3.474986</td>\n",
              "      <td>-2.181408</td>\n",
              "      <td>-1.818286</td>\n",
              "      <td>-1.250522</td>\n",
              "      <td>-0.477492</td>\n",
              "      <td>...</td>\n",
              "      <td>0.792168</td>\n",
              "      <td>0.933541</td>\n",
              "      <td>0.796958</td>\n",
              "      <td>0.578621</td>\n",
              "      <td>0.257740</td>\n",
              "      <td>0.228077</td>\n",
              "      <td>0.123431</td>\n",
              "      <td>0.925286</td>\n",
              "      <td>0.193137</td>\n",
              "      <td>1.0</td>\n",
              "    </tr>\n",
              "    <tr>\n",
              "      <th>1</th>\n",
              "      <td>-1.100878</td>\n",
              "      <td>-3.996840</td>\n",
              "      <td>-4.285843</td>\n",
              "      <td>-4.506579</td>\n",
              "      <td>-4.022377</td>\n",
              "      <td>-3.234368</td>\n",
              "      <td>-1.566126</td>\n",
              "      <td>-0.992258</td>\n",
              "      <td>-0.754680</td>\n",
              "      <td>0.042321</td>\n",
              "      <td>...</td>\n",
              "      <td>0.538356</td>\n",
              "      <td>0.656881</td>\n",
              "      <td>0.787490</td>\n",
              "      <td>0.724046</td>\n",
              "      <td>0.555784</td>\n",
              "      <td>0.476333</td>\n",
              "      <td>0.773820</td>\n",
              "      <td>1.119621</td>\n",
              "      <td>-1.436250</td>\n",
              "      <td>1.0</td>\n",
              "    </tr>\n",
              "    <tr>\n",
              "      <th>2</th>\n",
              "      <td>-0.567088</td>\n",
              "      <td>-2.593450</td>\n",
              "      <td>-3.874230</td>\n",
              "      <td>-4.584095</td>\n",
              "      <td>-4.187449</td>\n",
              "      <td>-3.151462</td>\n",
              "      <td>-1.742940</td>\n",
              "      <td>-1.490659</td>\n",
              "      <td>-1.183580</td>\n",
              "      <td>-0.394229</td>\n",
              "      <td>...</td>\n",
              "      <td>0.886073</td>\n",
              "      <td>0.531452</td>\n",
              "      <td>0.311377</td>\n",
              "      <td>-0.021919</td>\n",
              "      <td>-0.713683</td>\n",
              "      <td>-0.532197</td>\n",
              "      <td>0.321097</td>\n",
              "      <td>0.904227</td>\n",
              "      <td>-0.421797</td>\n",
              "      <td>1.0</td>\n",
              "    </tr>\n",
              "    <tr>\n",
              "      <th>3</th>\n",
              "      <td>0.490473</td>\n",
              "      <td>-1.914407</td>\n",
              "      <td>-3.616364</td>\n",
              "      <td>-4.318823</td>\n",
              "      <td>-4.268016</td>\n",
              "      <td>-3.881110</td>\n",
              "      <td>-2.993280</td>\n",
              "      <td>-1.671131</td>\n",
              "      <td>-1.333884</td>\n",
              "      <td>-0.965629</td>\n",
              "      <td>...</td>\n",
              "      <td>0.350816</td>\n",
              "      <td>0.499111</td>\n",
              "      <td>0.600345</td>\n",
              "      <td>0.842069</td>\n",
              "      <td>0.952074</td>\n",
              "      <td>0.990133</td>\n",
              "      <td>1.086798</td>\n",
              "      <td>1.403011</td>\n",
              "      <td>-0.383564</td>\n",
              "      <td>1.0</td>\n",
              "    </tr>\n",
              "    <tr>\n",
              "      <th>4</th>\n",
              "      <td>0.800232</td>\n",
              "      <td>-0.874252</td>\n",
              "      <td>-2.384761</td>\n",
              "      <td>-3.973292</td>\n",
              "      <td>-4.338224</td>\n",
              "      <td>-3.802422</td>\n",
              "      <td>-2.534510</td>\n",
              "      <td>-1.783423</td>\n",
              "      <td>-1.594450</td>\n",
              "      <td>-0.753199</td>\n",
              "      <td>...</td>\n",
              "      <td>1.148884</td>\n",
              "      <td>0.958434</td>\n",
              "      <td>1.059025</td>\n",
              "      <td>1.371682</td>\n",
              "      <td>1.277392</td>\n",
              "      <td>0.960304</td>\n",
              "      <td>0.971020</td>\n",
              "      <td>1.614392</td>\n",
              "      <td>1.421456</td>\n",
              "      <td>1.0</td>\n",
              "    </tr>\n",
              "  </tbody>\n",
              "</table>\n",
              "<p>5 rows × 141 columns</p>\n",
              "</div>"
            ],
            "text/plain": [
              "        0         1         2         3         4         5         6    \\\n",
              "0 -0.112522 -2.827204 -3.773897 -4.349751 -4.376041 -3.474986 -2.181408   \n",
              "1 -1.100878 -3.996840 -4.285843 -4.506579 -4.022377 -3.234368 -1.566126   \n",
              "2 -0.567088 -2.593450 -3.874230 -4.584095 -4.187449 -3.151462 -1.742940   \n",
              "3  0.490473 -1.914407 -3.616364 -4.318823 -4.268016 -3.881110 -2.993280   \n",
              "4  0.800232 -0.874252 -2.384761 -3.973292 -4.338224 -3.802422 -2.534510   \n",
              "\n",
              "        7         8         9    ...       131       132       133       134  \\\n",
              "0 -1.818286 -1.250522 -0.477492  ...  0.792168  0.933541  0.796958  0.578621   \n",
              "1 -0.992258 -0.754680  0.042321  ...  0.538356  0.656881  0.787490  0.724046   \n",
              "2 -1.490659 -1.183580 -0.394229  ...  0.886073  0.531452  0.311377 -0.021919   \n",
              "3 -1.671131 -1.333884 -0.965629  ...  0.350816  0.499111  0.600345  0.842069   \n",
              "4 -1.783423 -1.594450 -0.753199  ...  1.148884  0.958434  1.059025  1.371682   \n",
              "\n",
              "        135       136       137       138       139  140  \n",
              "0  0.257740  0.228077  0.123431  0.925286  0.193137  1.0  \n",
              "1  0.555784  0.476333  0.773820  1.119621 -1.436250  1.0  \n",
              "2 -0.713683 -0.532197  0.321097  0.904227 -0.421797  1.0  \n",
              "3  0.952074  0.990133  1.086798  1.403011 -0.383564  1.0  \n",
              "4  1.277392  0.960304  0.971020  1.614392  1.421456  1.0  \n",
              "\n",
              "[5 rows x 141 columns]"
            ]
          },
          "metadata": {},
          "execution_count": 3
        }
      ],
      "metadata": {
        "colab": {
          "base_uri": "https://localhost:8080/",
          "height": 256
        },
        "id": "QPD9JmlXciUr",
        "outputId": "54db4b00-87df-47ad-99b1-da7f3da25930"
      }
    },
    {
      "cell_type": "code",
      "execution_count": 4,
      "source": [
        "features = data.drop(140,axis=1)\r\n",
        "label = data.iloc[:,140]"
      ],
      "outputs": [],
      "metadata": {
        "id": "9Z1mRzfZciUs"
      }
    },
    {
      "cell_type": "code",
      "execution_count": 5,
      "source": [
        "from sklearn.model_selection import train_test_split\r\n",
        "x_train,x_test,y_train,y_test = train_test_split(features,label,test_size=0.2,stratify=label,random_state=240500)"
      ],
      "outputs": [],
      "metadata": {
        "id": "opbJEAlPciUt"
      }
    },
    {
      "cell_type": "code",
      "execution_count": 6,
      "source": [
        "train_index = y_train[y_train==1].index\r\n",
        "train_data = x_train.loc[train_index]"
      ],
      "outputs": [],
      "metadata": {
        "id": "-XhgR6AiciUt"
      }
    },
    {
      "cell_type": "code",
      "execution_count": 7,
      "source": [
        "from sklearn.preprocessing import MinMaxScaler\r\n",
        "scaler = MinMaxScaler(feature_range=(0,1))\r\n",
        "x_train_scale = scaler.fit_transform(train_data)\r\n",
        "x_test_scale = scaler.transform(x_test)"
      ],
      "outputs": [],
      "metadata": {
        "id": "69t-1hwtciUt"
      }
    },
    {
      "cell_type": "code",
      "execution_count": 8,
      "source": [
        "from keras.models import Sequential\r\n",
        "from keras.layers import Dense,Dropout\r\n",
        "import keras"
      ],
      "outputs": [],
      "metadata": {
        "id": "r2dKLehFciUu"
      }
    },
    {
      "cell_type": "code",
      "execution_count": 9,
      "source": [
        "input_layer = keras.Input(shape=(x_train_scale.shape[1]))\r\n",
        "hidden = Dense(64,activation='relu')(input_layer)\r\n",
        "hidden = Dropout(0.1)(hidden)\r\n",
        "hidden = Dense(32,activation='relu')(hidden)\r\n",
        "hidden = Dropout(0.1)(hidden)\r\n",
        "hidden = Dense(16,activation='relu')(hidden)\r\n",
        "hidden = Dropout(0.1)(hidden)\r\n",
        "encoder= Dense(8,activation='relu')(hidden)\r\n",
        "decoder = Dense(x_train_scale.shape[1],activation='sigmoid')(hidden)"
      ],
      "outputs": [],
      "metadata": {
        "id": "yeUlYv3TciUu"
      }
    },
    {
      "cell_type": "code",
      "execution_count": 10,
      "source": [
        "auto_model = keras.Model(input_layer,decoder)\r\n",
        "auto_model.compile(loss='msle',metrics=['mse'],optimizer='adam')\r\n",
        "history = auto_model.fit(x_train_scale,x_train_scale,epochs=20,batch_size=52,validation_data=(x_test_scale,x_test_scale))"
      ],
      "outputs": [
        {
          "output_type": "stream",
          "name": "stdout",
          "text": [
            "Epoch 1/20\n",
            "45/45 [==============================] - 1s 9ms/step - loss: 0.0097 - mse: 0.0222 - val_loss: 0.0123 - val_mse: 0.0282\n",
            "Epoch 2/20\n",
            "45/45 [==============================] - 0s 3ms/step - loss: 0.0058 - mse: 0.0131 - val_loss: 0.0100 - val_mse: 0.0232\n",
            "Epoch 3/20\n",
            "45/45 [==============================] - 0s 3ms/step - loss: 0.0046 - mse: 0.0104 - val_loss: 0.0095 - val_mse: 0.0220\n",
            "Epoch 4/20\n",
            "45/45 [==============================] - 0s 3ms/step - loss: 0.0043 - mse: 0.0097 - val_loss: 0.0092 - val_mse: 0.0213\n",
            "Epoch 5/20\n",
            "45/45 [==============================] - 0s 3ms/step - loss: 0.0039 - mse: 0.0087 - val_loss: 0.0086 - val_mse: 0.0198\n",
            "Epoch 6/20\n",
            "45/45 [==============================] - 0s 3ms/step - loss: 0.0033 - mse: 0.0074 - val_loss: 0.0081 - val_mse: 0.0186\n",
            "Epoch 7/20\n",
            "45/45 [==============================] - 0s 3ms/step - loss: 0.0029 - mse: 0.0066 - val_loss: 0.0078 - val_mse: 0.0179\n",
            "Epoch 8/20\n",
            "45/45 [==============================] - 0s 3ms/step - loss: 0.0027 - mse: 0.0061 - val_loss: 0.0076 - val_mse: 0.0175\n",
            "Epoch 9/20\n",
            "45/45 [==============================] - 0s 4ms/step - loss: 0.0026 - mse: 0.0059 - val_loss: 0.0074 - val_mse: 0.0170\n",
            "Epoch 10/20\n",
            "45/45 [==============================] - 0s 3ms/step - loss: 0.0025 - mse: 0.0057 - val_loss: 0.0072 - val_mse: 0.0165\n",
            "Epoch 11/20\n",
            "45/45 [==============================] - 0s 3ms/step - loss: 0.0024 - mse: 0.0053 - val_loss: 0.0070 - val_mse: 0.0161\n",
            "Epoch 12/20\n",
            "45/45 [==============================] - 0s 3ms/step - loss: 0.0023 - mse: 0.0052 - val_loss: 0.0068 - val_mse: 0.0157\n",
            "Epoch 13/20\n",
            "45/45 [==============================] - 0s 3ms/step - loss: 0.0022 - mse: 0.0050 - val_loss: 0.0067 - val_mse: 0.0154\n",
            "Epoch 14/20\n",
            "45/45 [==============================] - 0s 3ms/step - loss: 0.0021 - mse: 0.0048 - val_loss: 0.0066 - val_mse: 0.0151\n",
            "Epoch 15/20\n",
            "45/45 [==============================] - 0s 3ms/step - loss: 0.0021 - mse: 0.0048 - val_loss: 0.0064 - val_mse: 0.0147\n",
            "Epoch 16/20\n",
            "45/45 [==============================] - 0s 2ms/step - loss: 0.0021 - mse: 0.0047 - val_loss: 0.0062 - val_mse: 0.0143\n",
            "Epoch 17/20\n",
            "45/45 [==============================] - 0s 2ms/step - loss: 0.0020 - mse: 0.0045 - val_loss: 0.0060 - val_mse: 0.0138\n",
            "Epoch 18/20\n",
            "45/45 [==============================] - 0s 2ms/step - loss: 0.0020 - mse: 0.0044 - val_loss: 0.0058 - val_mse: 0.0134\n",
            "Epoch 19/20\n",
            "45/45 [==============================] - 0s 3ms/step - loss: 0.0019 - mse: 0.0044 - val_loss: 0.0057 - val_mse: 0.0132\n",
            "Epoch 20/20\n",
            "45/45 [==============================] - 0s 3ms/step - loss: 0.0019 - mse: 0.0043 - val_loss: 0.0057 - val_mse: 0.0131\n"
          ]
        }
      ],
      "metadata": {
        "colab": {
          "base_uri": "https://localhost:8080/"
        },
        "id": "tWQRXeQTeb1T",
        "outputId": "cc5a1123-cb9d-4cc1-fa2b-1135a7a85080"
      }
    },
    {
      "cell_type": "code",
      "execution_count": 11,
      "source": [
        "plt.plot(history.history['loss'])\r\n",
        "plt.plot(history.history['val_loss'])\r\n",
        "plt.xlabel(\"Epochs\")\r\n",
        "plt.ylabel(\"MSLE Loss\")\r\n",
        "plt.legend(['loss','val_loss'])"
      ],
      "outputs": [
        {
          "output_type": "execute_result",
          "data": {
            "text/plain": [
              "<matplotlib.legend.Legend at 0x1ab52ee17f0>"
            ]
          },
          "metadata": {},
          "execution_count": 11
        },
        {
          "output_type": "display_data",
          "data": {
            "image/png": "[encoded data removed]",
            "text/plain": [
              "<Figure size 432x288 with 1 Axes>"
            ]
          },
          "metadata": {
            "needs_background": "light"
          }
        }
      ],
      "metadata": {
        "colab": {
          "base_uri": "https://localhost:8080/",
          "height": 297
        },
        "id": "l9TAXEnPflqj",
        "outputId": "ddfda702-3e30-4f5e-9480-796635f39400"
      }
    },
    {
      "cell_type": "code",
      "execution_count": 12,
      "source": [
        "def threshold(model,x_train_scaled):\r\n",
        "    reconstr_output = model.predict(x_train_scaled)\r\n",
        "    reconstr_errors = keras.losses.msle(reconstr_output,x_train_scale)\r\n",
        "    threshold_error = np.mean(reconstr_errors.numpy()) / +np.std(reconstr_errors)\r\n",
        "    return threshold_error\r\n",
        "\r\n",
        "def threshold_perc(model,x_train_scaled):\r\n",
        "    reconstr_output = model.predict(x_train_scaled)\r\n",
        "    reconstr_errors = keras.losses.msle(reconstr_output,x_train_scaled)\r\n",
        "    threshold_error = np.percentile(reconstr_errors,95)\r\n",
        "    return threshold_error\r\n",
        "  \r\n",
        "def predictions(model,x_test_scaled,threshold):\r\n",
        "    pred = model.predict(x_test_scale)\r\n",
        "    errors = keras.losses.msle(pred,x_test_scaled)\r\n",
        "    anomaly = pd.Series(errors)>threshold\r\n",
        "    final_pred = anomaly.map(lambda x:0 if x==True else 1)\r\n",
        "    return final_pred"
      ],
      "outputs": [],
      "metadata": {
        "id": "u0A4hgGdgV1d"
      }
    },
    {
      "cell_type": "code",
      "execution_count": 13,
      "source": [
        "t = threshold(auto_model,x_train_scale)\r\n",
        "t_perc = threshold_perc(auto_model,x_train_scale)\r\n",
        "pred = predictions(auto_model,x_test_scale,t_perc)"
      ],
      "outputs": [],
      "metadata": {
        "id": "Jbe3C2jLiQDZ"
      }
    },
    {
      "cell_type": "code",
      "execution_count": 14,
      "source": [
        "from sklearn.metrics import accuracy_score\r\n",
        "accuracy_score(y_test,pred)"
      ],
      "outputs": [
        {
          "output_type": "execute_result",
          "data": {
            "text/plain": [
              "0.963"
            ]
          },
          "metadata": {},
          "execution_count": 14
        }
      ],
      "metadata": {
        "colab": {
          "base_uri": "https://localhost:8080/"
        },
        "id": "_hDl9LEKlk3w",
        "outputId": "e3441774-d67e-4c7a-cc1a-5a062f624dc8"
      }
    },
    {
      "cell_type": "markdown",
      "source": [
        "<h1>Conclusion</h1>\r\n",
        "<ol>\r\n",
        "<li>Autoencoder is used to identify outliers in the given dataset.</li> \r\n",
        "<li>Autoencoder model uses 3 hidden layers in each of encoder and decoder.</li> \r\n",
        "<li>Samples having MSE which is more than threshold are identified as outliers.</li> \r\n",
        "<li>The model shows 80.3% accuracy for predicting the outliers in test samples.</li>\r\n",
        "</ol>"
      ],
      "metadata": {
        "id": "Lc6V64gdo8DE"
      }
    }
  ]
}