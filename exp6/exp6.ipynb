{
 "cells": [
  {
   "cell_type": "markdown",
   "source": [
    "<h1>PAD Lab Experiment 6</h1>\r\n",
    "\r\n",
    "<h2>Roshan Srivastava <br> J047<br>MBA Tech. EXTC SEM 7</h2>\r\n",
    "\r\n",
    "<h3>Aim: Outlier Detection using K-Means</h3>"
   ],
   "metadata": {}
  },
  {
   "cell_type": "markdown",
   "source": [
    "<h1>Part 1</h1>"
   ],
   "metadata": {}
  },
  {
   "cell_type": "code",
   "execution_count": 1,
   "source": [
    "import numpy as np\r\n",
    "import matplotlib.pyplot as plt\r\n",
    "from sklearn.cluster import KMeans\r\n",
    "from scipy.spatial.distance import cdist\r\n",
    "# importing required libraries"
   ],
   "outputs": [],
   "metadata": {}
  },
  {
   "cell_type": "code",
   "execution_count": 7,
   "source": [
    "#dt = np.array([[1,2],[2,2],[2,3],[8,7],[9,8],[10,5],[3,6],[4,8],[5,9],[2,7],[1,8],[7,5]])\r\n",
    "dt=np.array([[1,2],[2,2],[2,3],[8,7],[8,9],[7,9],[7,7],[12,10],[25,24],[24,24],[24,25],[25,25],[25,20],[20,25]])\r\n",
    "#creating mock dataset for understanding K-means outlier detection"
   ],
   "outputs": [],
   "metadata": {}
  },
  {
   "cell_type": "code",
   "execution_count": 8,
   "source": [
    "plt.scatter(dt[:,0],dt[:,1])\r\n",
    "#plotting our mock dataset"
   ],
   "outputs": [
    {
     "output_type": "execute_result",
     "data": {
      "text/plain": [
       "<matplotlib.collections.PathCollection at 0x1d7cbb83370>"
      ]
     },
     "metadata": {},
     "execution_count": 8
    },
    {
     "output_type": "display_data",
     "data": {
      "image/png": "[encoded data removed]",
      "text/plain": [
       "<Figure size 432x288 with 1 Axes>"
      ]
     },
     "metadata": {
      "needs_background": "light"
     }
    }
   ],
   "metadata": {}
  },
  {
   "cell_type": "code",
   "execution_count": 9,
   "source": [
    "model = KMeans(n_clusters=3)\r\n",
    "#creating a KMeans instance"
   ],
   "outputs": [],
   "metadata": {}
  },
  {
   "cell_type": "code",
   "execution_count": 10,
   "source": [
    "clusters = model.fit_predict(dt)\r\n",
    "#fitting the model"
   ],
   "outputs": [],
   "metadata": {}
  },
  {
   "cell_type": "code",
   "execution_count": 11,
   "source": [
    "clusters\r\n",
    "#checking clusters for each datapoint"
   ],
   "outputs": [
    {
     "output_type": "execute_result",
     "data": {
      "text/plain": [
       "array([2, 2, 2, 0, 0, 0, 0, 0, 1, 1, 1, 1, 1, 1])"
      ]
     },
     "metadata": {},
     "execution_count": 11
    }
   ],
   "metadata": {}
  },
  {
   "cell_type": "code",
   "execution_count": 13,
   "source": [
    "plt.scatter(dt[:,0],dt[:,1],c=clusters,marker='s')\r\n",
    "#plotting data with cluster sorting"
   ],
   "outputs": [
    {
     "output_type": "execute_result",
     "data": {
      "text/plain": [
       "<matplotlib.collections.PathCollection at 0x1d7cbb9a610>"
      ]
     },
     "metadata": {},
     "execution_count": 13
    },
    {
     "output_type": "display_data",
     "data": {
      "image/png": "[encoded data removed]",
      "text/plain": [
       "<Figure size 432x288 with 1 Axes>"
      ]
     },
     "metadata": {
      "needs_background": "light"
     }
    }
   ],
   "metadata": {}
  },
  {
   "cell_type": "code",
   "execution_count": 16,
   "source": [
    "centroids = model.cluster_centers_\r\n",
    "#calcuating centroid (number = number of clusters)"
   ],
   "outputs": [],
   "metadata": {}
  },
  {
   "cell_type": "code",
   "execution_count": 17,
   "source": [
    "centroids"
   ],
   "outputs": [
    {
     "output_type": "execute_result",
     "data": {
      "text/plain": [
       "array([[ 8.4       ,  8.4       ],\n",
       "       [23.83333333, 23.83333333],\n",
       "       [ 1.66666667,  2.33333333]])"
      ]
     },
     "metadata": {},
     "execution_count": 17
    }
   ],
   "metadata": {}
  },
  {
   "cell_type": "code",
   "execution_count": 27,
   "source": [
    "points = np.empty((0,len(dt[0])),float)\r\n",
    "points,points.shape"
   ],
   "outputs": [
    {
     "output_type": "execute_result",
     "data": {
      "text/plain": [
       "(array([], shape=(0, 2), dtype=float64), (0, 2))"
      ]
     },
     "metadata": {},
     "execution_count": 27
    }
   ],
   "metadata": {}
  },
  {
   "cell_type": "code",
   "execution_count": 28,
   "source": [
    "dist = np.empty((0,len(dt)),float)"
   ],
   "outputs": [],
   "metadata": {}
  },
  {
   "cell_type": "code",
   "execution_count": 29,
   "source": [
    "for i,centre in enumerate(centroids):\r\n",
    "    dist = np.append(dist,cdist([centre],dt[clusters==i],'euclidean'))\r\n",
    "    points = np.append(points,dt[clusters==i],axis=0)\r\n",
    "# creating distances and points wrt centroids"
   ],
   "outputs": [],
   "metadata": {}
  },
  {
   "cell_type": "code",
   "execution_count": 30,
   "source": [
    "dist"
   ],
   "outputs": [
    {
     "output_type": "execute_result",
     "data": {
      "text/plain": [
       "array([1.45602198, 0.72111026, 1.52315462, 1.97989899, 3.93954312,\n",
       "       1.1785113 , 0.23570226, 1.1785113 , 1.64991582, 4.00693843,\n",
       "       4.00693843, 0.74535599, 0.47140452, 0.74535599])"
      ]
     },
     "metadata": {},
     "execution_count": 30
    }
   ],
   "metadata": {}
  },
  {
   "cell_type": "code",
   "execution_count": 32,
   "source": [
    "percentile = 80\r\n",
    "outliers = points[np.where(dist>np.percentile(dist,percentile))]\r\n",
    "outliers"
   ],
   "outputs": [
    {
     "output_type": "execute_result",
     "data": {
      "text/plain": [
       "array([[12., 10.],\n",
       "       [25., 20.],\n",
       "       [20., 25.]])"
      ]
     },
     "metadata": {},
     "execution_count": 32
    }
   ],
   "metadata": {}
  },
  {
   "cell_type": "code",
   "execution_count": 38,
   "source": [
    "plt.scatter(dt[:,0],dt[:,1],c=clusters,marker='s')\r\n",
    "plt.scatter(outliers[:,0],outliers[:,1],s=50,facecolor='r',edgecolor='r')\r\n",
    "plt.scatter(centroids[:,0],centroids[:,1],facecolor='b',edgecolor='b',s=40)\r\n",
    "#plotting data with outliers for each cluster"
   ],
   "outputs": [
    {
     "output_type": "execute_result",
     "data": {
      "text/plain": [
       "<matplotlib.collections.PathCollection at 0x1d7cc078700>"
      ]
     },
     "metadata": {},
     "execution_count": 38
    },
    {
     "output_type": "display_data",
     "data": {
      "image/png": "[encoded data removed]",
      "text/plain": [
       "<Figure size 432x288 with 1 Axes>"
      ]
     },
     "metadata": {
      "needs_background": "light"
     }
    }
   ],
   "metadata": {}
  },
  {
   "cell_type": "markdown",
   "source": [
    "<h1>Part 2</h1>"
   ],
   "metadata": {}
  },
  {
   "cell_type": "code",
   "execution_count": 39,
   "source": [
    "from sklearn.preprocessing import scale\r\n",
    "from sklearn.datasets import load_boston"
   ],
   "outputs": [],
   "metadata": {}
  },
  {
   "cell_type": "code",
   "execution_count": 58,
   "source": [
    "np.random.seed(123)\r\n",
    "def makeDataset(n):\r\n",
    "    x = []\r\n",
    "    for i in range(n):\r\n",
    "        a = i/1000 + np.random.uniform(-3,2)\r\n",
    "        r = np.random.uniform(-5,10)\r\n",
    "        if r>=9.9:\r\n",
    "            r += 10\r\n",
    "        elif r < -4.8:\r\n",
    "            r -= 10\r\n",
    "        x.append([a+r])\r\n",
    "    return np.array(x)\r\n",
    "#making another mock dataset"
   ],
   "outputs": [],
   "metadata": {}
  },
  {
   "cell_type": "code",
   "execution_count": 59,
   "source": [
    "x = makeDataset(500)"
   ],
   "outputs": [],
   "metadata": {}
  },
  {
   "cell_type": "code",
   "execution_count": 60,
   "source": [
    "plt.plot(range(500),x)"
   ],
   "outputs": [
    {
     "output_type": "execute_result",
     "data": {
      "text/plain": [
       "[<matplotlib.lines.Line2D at 0x1d7cc23aeb0>]"
      ]
     },
     "metadata": {},
     "execution_count": 60
    },
    {
     "output_type": "display_data",
     "data": {
      "image/png": "[encoded data removed]",
      "text/plain": [
       "<Figure size 432x288 with 1 Axes>"
      ]
     },
     "metadata": {
      "needs_background": "light"
     }
    }
   ],
   "metadata": {}
  },
  {
   "cell_type": "code",
   "execution_count": 61,
   "source": [
    "x = scale(x)\r\n",
    "#scaling the dataset to make Kmeans efficient"
   ],
   "outputs": [],
   "metadata": {}
  },
  {
   "cell_type": "code",
   "execution_count": 62,
   "source": [
    "kmeans = KMeans(n_clusters=1).fit(x)\r\n",
    "#creating another Kmeans instance"
   ],
   "outputs": [],
   "metadata": {}
  },
  {
   "cell_type": "code",
   "execution_count": 63,
   "source": [
    "centre = kmeans.cluster_centers_\r\n",
    "centre\r\n",
    "#calculating centroids"
   ],
   "outputs": [
    {
     "output_type": "execute_result",
     "data": {
      "text/plain": [
       "array([[-1.03028697e-16]])"
      ]
     },
     "metadata": {},
     "execution_count": 63
    }
   ],
   "metadata": {}
  },
  {
   "cell_type": "code",
   "execution_count": 64,
   "source": [
    "dist = np.sqrt((x-centre)**2)\r\n",
    "sort_index=np.argsort(dist,axis=0)\r\n",
    "index_large = sort_index[-5:]\r\n",
    "vals_large = x[index_large]\r\n",
    "#finding outliers by slicing largest distances from centroid"
   ],
   "outputs": [],
   "metadata": {}
  },
  {
   "cell_type": "code",
   "execution_count": 65,
   "source": [
    "vals_large"
   ],
   "outputs": [
    {
     "output_type": "execute_result",
     "data": {
      "text/plain": [
       "array([[[ 3.48218777]],\n",
       "\n",
       "       [[ 3.76918115]],\n",
       "\n",
       "       [[ 3.80914366]],\n",
       "\n",
       "       [[ 3.90096151]],\n",
       "\n",
       "       [[-4.05640939]]])"
      ]
     },
     "metadata": {},
     "execution_count": 65
    }
   ],
   "metadata": {}
  },
  {
   "cell_type": "code",
   "execution_count": 66,
   "source": [
    "plt.plot(range(500),x)\r\n",
    "plt.scatter(index_large,vals_large,color='r')\r\n",
    "#plotting data and outliers"
   ],
   "outputs": [
    {
     "output_type": "execute_result",
     "data": {
      "text/plain": [
       "<matplotlib.collections.PathCollection at 0x1d7d02a07c0>"
      ]
     },
     "metadata": {},
     "execution_count": 66
    },
    {
     "output_type": "display_data",
     "data": {
      "image/png": "[encoded data removed]",
      "text/plain": [
       "<Figure size 432x288 with 1 Axes>"
      ]
     },
     "metadata": {
      "needs_background": "light"
     }
    }
   ],
   "metadata": {}
  },
  {
   "cell_type": "markdown",
   "source": [
    "<h1>Part 3</h1>"
   ],
   "metadata": {}
  },
  {
   "cell_type": "code",
   "execution_count": 68,
   "source": [
    "boston_data = load_boston()\r\n",
    "y = boston_data.target\r\n",
    "y=y.reshape(y.shape[0],1)\r\n",
    "y = scale(y)\r\n",
    "#loading boston housing dataset"
   ],
   "outputs": [],
   "metadata": {}
  },
  {
   "cell_type": "code",
   "execution_count": 70,
   "source": [
    "kmeans = KMeans(n_clusters=1).fit(y)\r\n",
    "centre = kmeans.cluster_centers_\r\n",
    "#fitting model and finding centroid"
   ],
   "outputs": [],
   "metadata": {}
  },
  {
   "cell_type": "code",
   "execution_count": 75,
   "source": [
    "dist = np.sqrt((y-centre)**2)\r\n",
    "sort_index = np.argsort(dist,axis=0)\r\n",
    "index_large = sort_index[-20:]\r\n",
    "val = y[index_large]\r\n",
    "#finding outliers by slicing largest distances from centroid"
   ],
   "outputs": [],
   "metadata": {}
  },
  {
   "cell_type": "code",
   "execution_count": 74,
   "source": [
    "plt.plot(range(y.shape[0]),y)\r\n",
    "plt.scatter(index_large,val,color='r')\r\n",
    "#plotting data and outliers"
   ],
   "outputs": [
    {
     "output_type": "execute_result",
     "data": {
      "text/plain": [
       "<matplotlib.collections.PathCollection at 0x1d7d037ce50>"
      ]
     },
     "metadata": {},
     "execution_count": 74
    },
    {
     "output_type": "display_data",
     "data": {
      "image/png": "[encoded data removed]",
      "text/plain": [
       "<Figure size 432x288 with 1 Axes>"
      ]
     },
     "metadata": {
      "needs_background": "light"
     }
    }
   ],
   "metadata": {}
  },
  {
   "cell_type": "markdown",
   "source": [
    "<h1>Conclusion:</h1>\r\n",
    "<ol>\r\n",
    "<li>K-Means algorithm is used to detect outliers in the self generated datasets of 14 samples and 500 samples. Threshold for the detection is 80 percentile.</li>\r\n",
    "<li>Same Algorithm is applied to Boston Housing Dataset, largets 5 distances of samples are considered as outliers. Instead of 5 largest, if largest 100 distances are considered, then more samples are detected as outliers</li>\r\n",
    "</ol>"
   ],
   "metadata": {}
  }
 ],
 "metadata": {
  "orig_nbformat": 4,
  "language_info": {
   "name": "python",
   "version": "3.8.6",
   "mimetype": "text/x-python",
   "codemirror_mode": {
    "name": "ipython",
    "version": 3
   },
   "pygments_lexer": "ipython3",
   "nbconvert_exporter": "python",
   "file_extension": ".py"
  },
  "kernelspec": {
   "name": "python3",
   "display_name": "Python 3.8.6 64-bit (system)"
  },
  "interpreter": {
   "hash": "2e2612a721d62f3d81e7d0e2488b07fb9e0d705069089c8268e0a6f6df0cbda1"
  }
 },
 "nbformat": 4,
 "nbformat_minor": 2
}