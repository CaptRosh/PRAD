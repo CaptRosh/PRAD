{
 "cells": [
  {
   "cell_type": "markdown",
   "source": [
    "<h1>PAD - Assignment 3</h1>\r\n",
    "\r\n",
    "<h2>Standard Deviation</h2>\r\n",
    "\r\n",
    "<h3>Roshan Srivastava <br>  J047 <br>  MBA Tech. EXTC SEM 7</h3>"
   ],
   "metadata": {}
  },
  {
   "cell_type": "markdown",
   "source": [
    "<h2>Part 1</h2>"
   ],
   "metadata": {}
  },
  {
   "cell_type": "code",
   "execution_count": 2,
   "source": [
    "import numpy as np\r\n",
    "import matplotlib.pyplot as plt"
   ],
   "outputs": [],
   "metadata": {}
  },
  {
   "cell_type": "code",
   "execution_count": 3,
   "source": [
    "data = np.random.randn(50000)*20 + 20 # creating random dataset\r\n",
    "plt.plot(data)"
   ],
   "outputs": [
    {
     "output_type": "execute_result",
     "data": {
      "text/plain": [
       "[<matplotlib.lines.Line2D at 0x1cec46d73a0>]"
      ]
     },
     "metadata": {},
     "execution_count": 3
    },
    {
     "output_type": "display_data",
     "data": {
      "image/png": "[encoded data removed]",
      "text/plain": [
       "<Figure size 432x288 with 1 Axes>"
      ]
     },
     "metadata": {
      "needs_background": "light"
     }
    }
   ],
   "metadata": {}
  },
  {
   "cell_type": "code",
   "execution_count": 4,
   "source": [
    "std = np.std(data) #calculating mean and standard deviation\r\n",
    "mean = np.mean(data)\r\n",
    "std,mean"
   ],
   "outputs": [
    {
     "output_type": "execute_result",
     "data": {
      "text/plain": [
       "(20.05162665871098, 19.955986093241727)"
      ]
     },
     "metadata": {},
     "execution_count": 4
    }
   ],
   "metadata": {}
  },
  {
   "cell_type": "code",
   "execution_count": 5,
   "source": [
    "anomaly_cutoff = std*3  #anomaly range\r\n",
    "anomalies = np.where(np.bitwise_or(mean>=data+anomaly_cutoff,mean<=data-anomaly_cutoff),1,0) #detecting anomalies\r\n",
    "np.sum(anomalies)\r\n"
   ],
   "outputs": [
    {
     "output_type": "execute_result",
     "data": {
      "text/plain": [
       "134"
      ]
     },
     "metadata": {},
     "execution_count": 5
    }
   ],
   "metadata": {}
  },
  {
   "cell_type": "markdown",
   "source": [
    "<h2>Part 2: Boxplot</h2>"
   ],
   "metadata": {}
  },
  {
   "cell_type": "code",
   "execution_count": 7,
   "source": [
    "import seaborn as sns"
   ],
   "outputs": [],
   "metadata": {}
  },
  {
   "cell_type": "code",
   "execution_count": 10,
   "source": [
    "sns.boxplot(data = data)"
   ],
   "outputs": [
    {
     "output_type": "execute_result",
     "data": {
      "text/plain": [
       "<AxesSubplot:>"
      ]
     },
     "metadata": {},
     "execution_count": 10
    },
    {
     "output_type": "display_data",
     "data": {
      "image/png": "[encoded data removed]",
      "text/plain": [
       "<Figure size 432x288 with 1 Axes>"
      ]
     },
     "metadata": {
      "needs_background": "light"
     }
    }
   ],
   "metadata": {}
  },
  {
   "cell_type": "markdown",
   "source": [
    "<h2>Part 3: Tukey's Boxplot</h2>"
   ],
   "metadata": {}
  },
  {
   "cell_type": "code",
   "execution_count": 12,
   "source": [
    "q1 = np.quantile(data,0.25)\r\n",
    "q3 = np.quantile(data,0.75)\r\n",
    "q1,q3"
   ],
   "outputs": [
    {
     "output_type": "execute_result",
     "data": {
      "text/plain": [
       "(6.3382670860435315, 33.51223994264825)"
      ]
     },
     "metadata": {},
     "execution_count": 12
    }
   ],
   "metadata": {}
  },
  {
   "cell_type": "code",
   "execution_count": 13,
   "source": [
    "inter_quartile = q3-q1\r\n",
    "inner_fence = 1.5*inter_quartile\r\n",
    "outer_fence = 3*inter_quartile\r\n",
    "inner_fence,outer_fence"
   ],
   "outputs": [
    {
     "output_type": "execute_result",
     "data": {
      "text/plain": [
       "(40.76095928490708, 81.52191856981416)"
      ]
     },
     "metadata": {},
     "execution_count": 13
    }
   ],
   "metadata": {}
  },
  {
   "cell_type": "code",
   "execution_count": 15,
   "source": [
    "inner_fence_lower = q1 - inner_fence\r\n",
    "inner_fence_upper = q3 + inner_fence\r\n",
    "inner_fence_lower,inner_fence_upper"
   ],
   "outputs": [
    {
     "output_type": "execute_result",
     "data": {
      "text/plain": [
       "(-34.42269219886355, 74.27319922755532)"
      ]
     },
     "metadata": {},
     "execution_count": 15
    }
   ],
   "metadata": {}
  },
  {
   "cell_type": "code",
   "execution_count": 16,
   "source": [
    "outer_fence_lower = q1 - outer_fence\r\n",
    "outer_fence_upper = q3 + outer_fence\r\n",
    "outer_fence_lower,outer_fence_upper"
   ],
   "outputs": [
    {
     "output_type": "execute_result",
     "data": {
      "text/plain": [
       "(-75.18365148377063, 115.03415851246241)"
      ]
     },
     "metadata": {},
     "execution_count": 16
    }
   ],
   "metadata": {}
  },
  {
   "cell_type": "code",
   "execution_count": 22,
   "source": [
    "outlier_prob = []\r\n",
    "outlier_poss = []\r\n",
    "for i,temp in enumerate(data):\r\n",
    "    if outer_fence_lower >= temp or temp >= outer_fence_upper:\r\n",
    "        outlier_prob.append(temp)\r\n",
    "    elif inner_fence_lower >= temp or temp >= inner_fence_upper:\r\n",
    "        outlier_poss.append(temp)\r\n",
    "len(outlier_prob),len(outlier_poss)"
   ],
   "outputs": [
    {
     "output_type": "execute_result",
     "data": {
      "text/plain": [
       "(0, 345)"
      ]
     },
     "metadata": {},
     "execution_count": 22
    }
   ],
   "metadata": {}
  },
  {
   "cell_type": "markdown",
   "source": [
    "<h2>Part 4: Z-Score</h2>"
   ],
   "metadata": {}
  },
  {
   "cell_type": "code",
   "execution_count": 23,
   "source": [
    "from scipy import stats"
   ],
   "outputs": [],
   "metadata": {}
  },
  {
   "cell_type": "code",
   "execution_count": 32,
   "source": [
    "z = np.abs(stats.zscore(data))\r\n",
    "threshold = 3\r\n",
    "outliers = np.where(z>threshold,1,0)\r\n",
    "sum(outliers)"
   ],
   "outputs": [
    {
     "output_type": "execute_result",
     "data": {
      "text/plain": [
       "134"
      ]
     },
     "metadata": {},
     "execution_count": 32
    }
   ],
   "metadata": {}
  },
  {
   "cell_type": "markdown",
   "source": [
    "<h2>Part 5: Median Absolute Deviation Method</h2>"
   ],
   "metadata": {}
  },
  {
   "cell_type": "code",
   "execution_count": 5,
   "source": [
    "import numpy as np\r\n",
    "import pandas as pd\r\n",
    "import seaborn as sns\r\n",
    "import matplotlib.pyplot as plt\r\n",
    "from scipy import stats\r\n",
    "import warnings\r\n",
    "warnings.filterwarnings(\"ignore\")"
   ],
   "outputs": [],
   "metadata": {}
  },
  {
   "cell_type": "code",
   "execution_count": 6,
   "source": [
    "data = np.random.randn(50000) * 20 + 20\r\n",
    "plt.plot(data)"
   ],
   "outputs": [
    {
     "output_type": "execute_result",
     "data": {
      "text/plain": [
       "[<matplotlib.lines.Line2D at 0x1b918508e20>]"
      ]
     },
     "metadata": {},
     "execution_count": 6
    },
    {
     "output_type": "display_data",
     "data": {
      "image/png": "[encoded data removed]",
      "text/plain": [
       "<Figure size 432x288 with 1 Axes>"
      ]
     },
     "metadata": {
      "needs_background": "light"
     }
    }
   ],
   "metadata": {}
  },
  {
   "cell_type": "code",
   "execution_count": 7,
   "source": [
    "med = np.median(data,axis=0)\r\n",
    "mad = np.abs(stats.median_absolute_deviation(data))\r\n",
    "threshold = 3\r\n",
    "outliers = np.where((data-mad)/mad>=threshold,1,0) \r\n",
    "sum(outliers)"
   ],
   "outputs": [
    {
     "output_type": "execute_result",
     "data": {
      "text/plain": [
       "57"
      ]
     },
     "metadata": {},
     "execution_count": 7
    }
   ],
   "metadata": {}
  },
  {
   "cell_type": "markdown",
   "source": [
    "<h2>Part 6: Mahabolis Distance</h2>"
   ],
   "metadata": {}
  },
  {
   "cell_type": "code",
   "execution_count": 4,
   "source": [
    "import scipy\r\n",
    "from sklearn.covariance import MinCovDet\r\n",
    "from sklearn.datasets import load_boston\r\n",
    "import pandas as pd"
   ],
   "outputs": [],
   "metadata": {}
  },
  {
   "cell_type": "code",
   "execution_count": 5,
   "source": [
    "bost = load_boston()\r\n",
    "x,y = load_boston(return_X_y=True)\r\n",
    "columns = bost.feature_names\r\n",
    "data = pd.DataFrame(x,columns=columns)"
   ],
   "outputs": [],
   "metadata": {}
  },
  {
   "cell_type": "code",
   "execution_count": 10,
   "source": [
    "def mahalanbolis(data):\r\n",
    "    xmu = data - np.mean(data)\r\n",
    "    cov = np.cov(data.values.T)\r\n",
    "    invCov = scipy.linalg.inv(cov)\r\n",
    "    m_dist = np.sqrt(np.dot(np.dot(xmu,invCov),xmu.T).diagonal())\r\n",
    "    chival = np.sqrt(scipy.stats.chi2.ppf(1-0.001,df=data.shape[1]))\r\n",
    "    \r\n",
    "    return np.where(m_dist>chival,1,0),m_dist  \r\n"
   ],
   "outputs": [],
   "metadata": {}
  },
  {
   "cell_type": "code",
   "execution_count": 12,
   "source": [
    "outliers,maha_dst = mahalanbolis(data)\r\n",
    "sum(outliers)"
   ],
   "outputs": [
    {
     "output_type": "execute_result",
     "data": {
      "text/plain": [
       "17"
      ]
     },
     "metadata": {},
     "execution_count": 12
    }
   ],
   "metadata": {}
  }
 ],
 "metadata": {
  "orig_nbformat": 4,
  "language_info": {
   "name": "python",
   "version": "3.8.6",
   "mimetype": "text/x-python",
   "codemirror_mode": {
    "name": "ipython",
    "version": 3
   },
   "pygments_lexer": "ipython3",
   "nbconvert_exporter": "python",
   "file_extension": ".py"
  },
  "kernelspec": {
   "name": "python3",
   "display_name": "Python 3.8.6 64-bit (system)"
  },
  "interpreter": {
   "hash": "2e2612a721d62f3d81e7d0e2488b07fb9e0d705069089c8268e0a6f6df0cbda1"
  }
 },
 "nbformat": 4,
 "nbformat_minor": 2
}