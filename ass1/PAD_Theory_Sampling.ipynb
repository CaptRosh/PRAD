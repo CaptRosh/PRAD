{
  "nbformat": 4,
  "nbformat_minor": 2,
  "metadata": {
    "colab": {
      "name": "PAD_Theory_Sampling",
      "provenance": []
    },
    "kernelspec": {
      "name": "python3",
      "display_name": "Python 3"
    },
    "language_info": {
      "name": "python"
    }
  },
  "cells": [
    {
      "cell_type": "markdown",
      "source": [
        "<h1>PAD - Assignment 1</h1>\n",
        "\n",
        "<h2>Different types of Sampling </h2>\n",
        "\n",
        "<h3>Roshan Srivastava <br>  J047 <br>  MBA Tech. EXTC SEM 7</h3>"
      ],
      "metadata": {
        "id": "gYzqXD369iZZ"
      }
    },
    {
      "cell_type": "code",
      "execution_count": 2,
      "source": [
        "import numpy as np\r\n",
        "import pandas as pd\r\n",
        "np.random.seed(42) #setting seed to get same results as lab"
      ],
      "outputs": [],
      "metadata": {
        "id": "Y2OQY9SCzIOV"
      }
    },
    {
      "cell_type": "code",
      "execution_count": 3,
      "source": [
        "number = 100\r\n",
        "data = {'PID':list(np.arange(1,number+1)),'measure':list(np.round(np.random.normal(loc=10,scale=0.5,size=number),3))} #making a dict for out population"
      ],
      "outputs": [],
      "metadata": {
        "id": "HW1fLZJ5-KrX"
      }
    },
    {
      "cell_type": "code",
      "execution_count": 4,
      "source": [
        "dataframe = pd.DataFrame(data) #converting dict to dataframe\r\n",
        "dataframe.head()"
      ],
      "outputs": [
        {
          "output_type": "execute_result",
          "data": {
            "text/plain": [
              "   PID  measure\n",
              "0    1   10.248\n",
              "1    2    9.931\n",
              "2    3   10.324\n",
              "3    4   10.762\n",
              "4    5    9.883"
            ],
            "text/html": [
              "<div>\n",
              "<style scoped>\n",
              "    .dataframe tbody tr th:only-of-type {\n",
              "        vertical-align: middle;\n",
              "    }\n",
              "\n",
              "    .dataframe tbody tr th {\n",
              "        vertical-align: top;\n",
              "    }\n",
              "\n",
              "    .dataframe thead th {\n",
              "        text-align: right;\n",
              "    }\n",
              "</style>\n",
              "<table border=\"1\" class=\"dataframe\">\n",
              "  <thead>\n",
              "    <tr style=\"text-align: right;\">\n",
              "      <th></th>\n",
              "      <th>PID</th>\n",
              "      <th>measure</th>\n",
              "    </tr>\n",
              "  </thead>\n",
              "  <tbody>\n",
              "    <tr>\n",
              "      <th>0</th>\n",
              "      <td>1</td>\n",
              "      <td>10.248</td>\n",
              "    </tr>\n",
              "    <tr>\n",
              "      <th>1</th>\n",
              "      <td>2</td>\n",
              "      <td>9.931</td>\n",
              "    </tr>\n",
              "    <tr>\n",
              "      <th>2</th>\n",
              "      <td>3</td>\n",
              "      <td>10.324</td>\n",
              "    </tr>\n",
              "    <tr>\n",
              "      <th>3</th>\n",
              "      <td>4</td>\n",
              "      <td>10.762</td>\n",
              "    </tr>\n",
              "    <tr>\n",
              "      <th>4</th>\n",
              "      <td>5</td>\n",
              "      <td>9.883</td>\n",
              "    </tr>\n",
              "  </tbody>\n",
              "</table>\n",
              "</div>"
            ]
          },
          "metadata": {},
          "execution_count": 4
        }
      ],
      "metadata": {
        "colab": {
          "base_uri": "https://localhost:8080/",
          "height": 201
        },
        "id": "vgKYpk_v-ciE",
        "outputId": "1212a32b-cdfc-4189-cf14-7f0677575b9f"
      }
    },
    {
      "cell_type": "code",
      "execution_count": 5,
      "source": [
        "pop_mean = np.mean(dataframe.measure) #finding population mean\r\n",
        "print(f\"Population Mean: {pop_mean:.3f}\")"
      ],
      "outputs": [
        {
          "output_type": "stream",
          "name": "stdout",
          "text": [
            "Population Mean: 9.948\n"
          ]
        }
      ],
      "metadata": {
        "colab": {
          "base_uri": "https://localhost:8080/"
        },
        "id": "Oo1OlNlv_8c2",
        "outputId": "14fd8f8d-a812-4f20-bec4-c506f1512044"
      }
    },
    {
      "cell_type": "code",
      "execution_count": 6,
      "source": [
        "# Simple Random Sampling\r\n",
        "num_samples = 10\r\n",
        "srs = dataframe.sample(n=num_samples,random_state=1).sort_values(by= \"PID\")\r\n",
        "print(f\"Simple Random Sampling:\\n {srs}\")"
      ],
      "outputs": [
        {
          "output_type": "stream",
          "name": "stdout",
          "text": [
            "Simple Random Sampling:\n",
            "     PID  measure\n",
            "17   18   10.157\n",
            "33   34    9.471\n",
            "36   37   10.104\n",
            "65   66   10.678\n",
            "69   70    9.677\n",
            "80   81    9.890\n",
            "81   82   10.179\n",
            "82   83   10.739\n",
            "84   85    9.596\n",
            "93   94    9.836\n"
          ]
        }
      ],
      "metadata": {
        "colab": {
          "base_uri": "https://localhost:8080/"
        },
        "id": "_qnU5Cq5BzkF",
        "outputId": "fe1551de-724e-4354-8355-d2b3b45abf58"
      }
    },
    {
      "cell_type": "code",
      "execution_count": 7,
      "source": [
        "srs_mean = round(srs.measure.mean(),3) #mean of simple random sampling\r\n",
        "print(f\"Simple Random Sampling Mean: {srs_mean}\")"
      ],
      "outputs": [
        {
          "output_type": "stream",
          "name": "stdout",
          "text": [
            "Simple Random Sampling Mean: 10.033\n"
          ]
        }
      ],
      "metadata": {
        "colab": {
          "base_uri": "https://localhost:8080/"
        },
        "id": "KlrxMVn6C4I_",
        "outputId": "e77b35b1-77fc-48ef-83e5-40c30fe71379"
      }
    },
    {
      "cell_type": "code",
      "execution_count": 8,
      "source": [
        "def systematicRandomSampling(df,start,step):\r\n",
        "    indices = np.arange(start,len(df),step=step) #calculating indices based on steps\r\n",
        "    return df.iloc[indices]"
      ],
      "outputs": [],
      "metadata": {
        "id": "7J4KL-KRDoFE"
      }
    },
    {
      "cell_type": "code",
      "execution_count": 9,
      "source": [
        "sysrs = systematicRandomSampling(dataframe,2,num_samples)\r\n",
        "print(f\"Systematic Random Sampling:\\n {sysrs}\")"
      ],
      "outputs": [
        {
          "output_type": "stream",
          "name": "stdout",
          "text": [
            "Systematic Random Sampling:\n",
            "     PID  measure\n",
            "2     3   10.324\n",
            "12   13   10.121\n",
            "22   23   10.034\n",
            "32   33    9.993\n",
            "42   43    9.942\n",
            "52   53    9.662\n",
            "62   63    9.447\n",
            "72   73    9.982\n",
            "82   83   10.739\n",
            "92   93    9.649\n"
          ]
        }
      ],
      "metadata": {
        "colab": {
          "base_uri": "https://localhost:8080/"
        },
        "id": "6wteu0QIGRUk",
        "outputId": "30b2dbfd-5bc3-41ea-c9a0-c12ef1ce3aab"
      }
    },
    {
      "cell_type": "code",
      "execution_count": 10,
      "source": [
        "sysrs_mean = round(sysrs.measure.mean(),3) #mean of simple random sampling\r\n",
        "print(f\"Systematic Random Sampling Mean: {sysrs_mean}\")"
      ],
      "outputs": [
        {
          "output_type": "stream",
          "name": "stdout",
          "text": [
            "Systematic Random Sampling Mean: 9.989\n"
          ]
        }
      ],
      "metadata": {
        "colab": {
          "base_uri": "https://localhost:8080/"
        },
        "id": "Ly690GTAGnJ6",
        "outputId": "3f612175-49c4-4dde-eeaa-747ac1f23a9d"
      }
    },
    {
      "cell_type": "code",
      "execution_count": 19,
      "source": [
        "# Straified Random Sampling\r\n",
        "number = 20\r\n",
        "data = {\"product_id\":np.arange(1,number+1).tolist(),'product_group':np.repeat([1,2],number/2).tolist(),'value':np.round(np.random.normal(loc=10,scale=0.5,size=number),3)}"
      ],
      "outputs": [],
      "metadata": {
        "id": "98ro76w5HA0c"
      }
    },
    {
      "cell_type": "code",
      "execution_count": 20,
      "source": [
        "df = pd.DataFrame(data)\r\n",
        "df.head()"
      ],
      "outputs": [
        {
          "output_type": "execute_result",
          "data": {
            "text/plain": [
              "   product_id  product_group   value\n",
              "0           1              1  11.157\n",
              "1           2              1   9.066\n",
              "2           3              1  10.343\n",
              "3           4              1   9.194\n",
              "4           5              1   9.764"
            ],
            "text/html": [
              "<div>\n",
              "<style scoped>\n",
              "    .dataframe tbody tr th:only-of-type {\n",
              "        vertical-align: middle;\n",
              "    }\n",
              "\n",
              "    .dataframe tbody tr th {\n",
              "        vertical-align: top;\n",
              "    }\n",
              "\n",
              "    .dataframe thead th {\n",
              "        text-align: right;\n",
              "    }\n",
              "</style>\n",
              "<table border=\"1\" class=\"dataframe\">\n",
              "  <thead>\n",
              "    <tr style=\"text-align: right;\">\n",
              "      <th></th>\n",
              "      <th>product_id</th>\n",
              "      <th>product_group</th>\n",
              "      <th>value</th>\n",
              "    </tr>\n",
              "  </thead>\n",
              "  <tbody>\n",
              "    <tr>\n",
              "      <th>0</th>\n",
              "      <td>1</td>\n",
              "      <td>1</td>\n",
              "      <td>11.157</td>\n",
              "    </tr>\n",
              "    <tr>\n",
              "      <th>1</th>\n",
              "      <td>2</td>\n",
              "      <td>1</td>\n",
              "      <td>9.066</td>\n",
              "    </tr>\n",
              "    <tr>\n",
              "      <th>2</th>\n",
              "      <td>3</td>\n",
              "      <td>1</td>\n",
              "      <td>10.343</td>\n",
              "    </tr>\n",
              "    <tr>\n",
              "      <th>3</th>\n",
              "      <td>4</td>\n",
              "      <td>1</td>\n",
              "      <td>9.194</td>\n",
              "    </tr>\n",
              "    <tr>\n",
              "      <th>4</th>\n",
              "      <td>5</td>\n",
              "      <td>1</td>\n",
              "      <td>9.764</td>\n",
              "    </tr>\n",
              "  </tbody>\n",
              "</table>\n",
              "</div>"
            ]
          },
          "metadata": {},
          "execution_count": 20
        }
      ],
      "metadata": {
        "colab": {
          "base_uri": "https://localhost:8080/",
          "height": 201
        },
        "id": "yAD5fghc8YSb",
        "outputId": "92487045-1cf1-4f4a-88d3-1dce2aadf529"
      }
    },
    {
      "cell_type": "code",
      "execution_count": 18,
      "source": [
        "from sklearn.model_selection import StratifiedShuffleSplit\r\n",
        "split = StratifiedShuffleSplit(n_splits=1,test_size=4,)"
      ],
      "outputs": [],
      "metadata": {
        "id": "HPu4tEEC8-ch"
      }
    },
    {
      "cell_type": "code",
      "execution_count": 25,
      "source": [
        "for x,y in split.split(df,df['product_group']):\r\n",
        "  strat_samples = df.iloc[y].sort_values(by='product_id')\r\n",
        "  strat_samples"
      ],
      "outputs": [],
      "metadata": {
        "id": "fhmJ9jQp9u0x"
      }
    },
    {
      "cell_type": "code",
      "execution_count": 24,
      "source": [],
      "outputs": [
        {
          "output_type": "execute_result",
          "data": {
            "text/plain": [
              "    product_id  product_group   value\n",
              "6            7              1  10.032\n",
              "9           10              1  10.340\n",
              "14          15              2  11.072\n",
              "18          19              2   9.669"
            ],
            "text/html": [
              "<div>\n",
              "<style scoped>\n",
              "    .dataframe tbody tr th:only-of-type {\n",
              "        vertical-align: middle;\n",
              "    }\n",
              "\n",
              "    .dataframe tbody tr th {\n",
              "        vertical-align: top;\n",
              "    }\n",
              "\n",
              "    .dataframe thead th {\n",
              "        text-align: right;\n",
              "    }\n",
              "</style>\n",
              "<table border=\"1\" class=\"dataframe\">\n",
              "  <thead>\n",
              "    <tr style=\"text-align: right;\">\n",
              "      <th></th>\n",
              "      <th>product_id</th>\n",
              "      <th>product_group</th>\n",
              "      <th>value</th>\n",
              "    </tr>\n",
              "  </thead>\n",
              "  <tbody>\n",
              "    <tr>\n",
              "      <th>6</th>\n",
              "      <td>7</td>\n",
              "      <td>1</td>\n",
              "      <td>10.032</td>\n",
              "    </tr>\n",
              "    <tr>\n",
              "      <th>9</th>\n",
              "      <td>10</td>\n",
              "      <td>1</td>\n",
              "      <td>10.340</td>\n",
              "    </tr>\n",
              "    <tr>\n",
              "      <th>14</th>\n",
              "      <td>15</td>\n",
              "      <td>2</td>\n",
              "      <td>11.072</td>\n",
              "    </tr>\n",
              "    <tr>\n",
              "      <th>18</th>\n",
              "      <td>19</td>\n",
              "      <td>2</td>\n",
              "      <td>9.669</td>\n",
              "    </tr>\n",
              "  </tbody>\n",
              "</table>\n",
              "</div>"
            ]
          },
          "metadata": {},
          "execution_count": 24
        }
      ],
      "metadata": {
        "colab": {
          "base_uri": "https://localhost:8080/",
          "height": 171
        },
        "id": "aBXxEWK4_HeC",
        "outputId": "f6b389e1-26c0-4eb0-ddda-4013586b95cc"
      }
    },
    {
      "cell_type": "code",
      "execution_count": 30,
      "source": [
        "strat_samples.groupby('product_group').mean().drop(['product_id'],axis=1)"
      ],
      "outputs": [
        {
          "output_type": "execute_result",
          "data": {
            "text/plain": [
              "                 value\n",
              "product_group         \n",
              "1              10.4605\n",
              "2              10.0295"
            ],
            "text/html": [
              "<div>\n",
              "<style scoped>\n",
              "    .dataframe tbody tr th:only-of-type {\n",
              "        vertical-align: middle;\n",
              "    }\n",
              "\n",
              "    .dataframe tbody tr th {\n",
              "        vertical-align: top;\n",
              "    }\n",
              "\n",
              "    .dataframe thead th {\n",
              "        text-align: right;\n",
              "    }\n",
              "</style>\n",
              "<table border=\"1\" class=\"dataframe\">\n",
              "  <thead>\n",
              "    <tr style=\"text-align: right;\">\n",
              "      <th></th>\n",
              "      <th>value</th>\n",
              "    </tr>\n",
              "    <tr>\n",
              "      <th>product_group</th>\n",
              "      <th></th>\n",
              "    </tr>\n",
              "  </thead>\n",
              "  <tbody>\n",
              "    <tr>\n",
              "      <th>1</th>\n",
              "      <td>10.4605</td>\n",
              "    </tr>\n",
              "    <tr>\n",
              "      <th>2</th>\n",
              "      <td>10.0295</td>\n",
              "    </tr>\n",
              "  </tbody>\n",
              "</table>\n",
              "</div>"
            ]
          },
          "metadata": {},
          "execution_count": 30
        }
      ],
      "metadata": {
        "colab": {
          "base_uri": "https://localhost:8080/",
          "height": 140
        },
        "id": "AHVeLknP_Ket",
        "outputId": "fe20c749-0d41-4b4a-ad1e-35385164b605"
      }
    },
    {
      "cell_type": "code",
      "execution_count": 31,
      "source": [
        "num_clusters = 5\r\n",
        "df['cluster_id'] = np.repeat(list(range(1,num_clusters+1)),len(df)/num_clusters)"
      ],
      "outputs": [],
      "metadata": {
        "id": "YvnzwRdXADHf"
      }
    },
    {
      "cell_type": "code",
      "execution_count": 34,
      "source": [
        "indices = []\r\n",
        "for i in range(len(df)):\r\n",
        "  if df['cluster_id'].iloc[i]%2==0:\r\n",
        "    indices.append(i)\r\n",
        "\r\n",
        "cluster_samples = df.iloc[indices]\r\n",
        "cluster_samples"
      ],
      "outputs": [
        {
          "output_type": "execute_result",
          "data": {
            "text/plain": [
              "    product_id  product_group   value  cluster_id\n",
              "4            5              1   9.764           2\n",
              "5            6              1  10.544           2\n",
              "6            7              1  10.032           2\n",
              "7            8              1   9.461           2\n",
              "12          13              2  10.023           4\n",
              "13          14              2   9.674           4\n",
              "14          15              2  11.072           4\n",
              "15          16              2  10.317           4"
            ],
            "text/html": [
              "<div>\n",
              "<style scoped>\n",
              "    .dataframe tbody tr th:only-of-type {\n",
              "        vertical-align: middle;\n",
              "    }\n",
              "\n",
              "    .dataframe tbody tr th {\n",
              "        vertical-align: top;\n",
              "    }\n",
              "\n",
              "    .dataframe thead th {\n",
              "        text-align: right;\n",
              "    }\n",
              "</style>\n",
              "<table border=\"1\" class=\"dataframe\">\n",
              "  <thead>\n",
              "    <tr style=\"text-align: right;\">\n",
              "      <th></th>\n",
              "      <th>product_id</th>\n",
              "      <th>product_group</th>\n",
              "      <th>value</th>\n",
              "      <th>cluster_id</th>\n",
              "    </tr>\n",
              "  </thead>\n",
              "  <tbody>\n",
              "    <tr>\n",
              "      <th>4</th>\n",
              "      <td>5</td>\n",
              "      <td>1</td>\n",
              "      <td>9.764</td>\n",
              "      <td>2</td>\n",
              "    </tr>\n",
              "    <tr>\n",
              "      <th>5</th>\n",
              "      <td>6</td>\n",
              "      <td>1</td>\n",
              "      <td>10.544</td>\n",
              "      <td>2</td>\n",
              "    </tr>\n",
              "    <tr>\n",
              "      <th>6</th>\n",
              "      <td>7</td>\n",
              "      <td>1</td>\n",
              "      <td>10.032</td>\n",
              "      <td>2</td>\n",
              "    </tr>\n",
              "    <tr>\n",
              "      <th>7</th>\n",
              "      <td>8</td>\n",
              "      <td>1</td>\n",
              "      <td>9.461</td>\n",
              "      <td>2</td>\n",
              "    </tr>\n",
              "    <tr>\n",
              "      <th>12</th>\n",
              "      <td>13</td>\n",
              "      <td>2</td>\n",
              "      <td>10.023</td>\n",
              "      <td>4</td>\n",
              "    </tr>\n",
              "    <tr>\n",
              "      <th>13</th>\n",
              "      <td>14</td>\n",
              "      <td>2</td>\n",
              "      <td>9.674</td>\n",
              "      <td>4</td>\n",
              "    </tr>\n",
              "    <tr>\n",
              "      <th>14</th>\n",
              "      <td>15</td>\n",
              "      <td>2</td>\n",
              "      <td>11.072</td>\n",
              "      <td>4</td>\n",
              "    </tr>\n",
              "    <tr>\n",
              "      <th>15</th>\n",
              "      <td>16</td>\n",
              "      <td>2</td>\n",
              "      <td>10.317</td>\n",
              "      <td>4</td>\n",
              "    </tr>\n",
              "  </tbody>\n",
              "</table>\n",
              "</div>"
            ]
          },
          "metadata": {},
          "execution_count": 34
        }
      ],
      "metadata": {
        "colab": {
          "base_uri": "https://localhost:8080/",
          "height": 293
        },
        "id": "t-TekU2XCSKw",
        "outputId": "16018ac9-251f-4b50-c6fa-e7495467a180"
      }
    },
    {
      "cell_type": "code",
      "execution_count": 36,
      "source": [
        "cluster_samples.groupby('cluster_id').mean().drop(['product_id'],axis=1)"
      ],
      "outputs": [
        {
          "output_type": "execute_result",
          "data": {
            "text/plain": [
              "            product_group     value\n",
              "cluster_id                         \n",
              "2                     1.0   9.95025\n",
              "4                     2.0  10.27150"
            ],
            "text/html": [
              "<div>\n",
              "<style scoped>\n",
              "    .dataframe tbody tr th:only-of-type {\n",
              "        vertical-align: middle;\n",
              "    }\n",
              "\n",
              "    .dataframe tbody tr th {\n",
              "        vertical-align: top;\n",
              "    }\n",
              "\n",
              "    .dataframe thead th {\n",
              "        text-align: right;\n",
              "    }\n",
              "</style>\n",
              "<table border=\"1\" class=\"dataframe\">\n",
              "  <thead>\n",
              "    <tr style=\"text-align: right;\">\n",
              "      <th></th>\n",
              "      <th>product_group</th>\n",
              "      <th>value</th>\n",
              "    </tr>\n",
              "    <tr>\n",
              "      <th>cluster_id</th>\n",
              "      <th></th>\n",
              "      <th></th>\n",
              "    </tr>\n",
              "  </thead>\n",
              "  <tbody>\n",
              "    <tr>\n",
              "      <th>2</th>\n",
              "      <td>1.0</td>\n",
              "      <td>9.95025</td>\n",
              "    </tr>\n",
              "    <tr>\n",
              "      <th>4</th>\n",
              "      <td>2.0</td>\n",
              "      <td>10.27150</td>\n",
              "    </tr>\n",
              "  </tbody>\n",
              "</table>\n",
              "</div>"
            ]
          },
          "metadata": {},
          "execution_count": 36
        }
      ],
      "metadata": {
        "colab": {
          "base_uri": "https://localhost:8080/",
          "height": 140
        },
        "id": "akczVCsyC-LP",
        "outputId": "fa2cdb7f-8e3f-488b-8c6c-ec8a1317a0f6"
      }
    }
  ]
}